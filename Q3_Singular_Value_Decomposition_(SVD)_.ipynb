{
  "nbformat": 4,
  "nbformat_minor": 0,
  "metadata": {
    "colab": {
      "provenance": [],
      "include_colab_link": true
    },
    "kernelspec": {
      "name": "python3",
      "display_name": "Python 3"
    },
    "language_info": {
      "name": "python"
    }
  },
  "cells": [
    {
      "cell_type": "markdown",
      "metadata": {
        "id": "view-in-github",
        "colab_type": "text"
      },
      "source": [
        "<a href=\"https://colab.research.google.com/github/AwateNavnath/navnath/blob/main/Q3_Singular_Value_Decomposition_(SVD)_.ipynb\" target=\"_parent\"><img src=\"https://colab.research.google.com/assets/colab-badge.svg\" alt=\"Open In Colab\"/></a>"
      ]
    },
    {
      "cell_type": "markdown",
      "source": [
        "# **Q3. Singular Value Decomposition (SVD):**"
      ],
      "metadata": {
        "id": "CLc4fhmkmr0Q"
      }
    },
    {
      "cell_type": "code",
      "source": [
        "import numpy as np\n",
        "\n",
        "np.random.seed(3)\n",
        "A = np.random.randint(0, 10, size=(5, 5))\n",
        "\n",
        "# Perform Singular Value Decomposition (SVD) on matrix A\n",
        "U, Sigma, Vt = np.linalg.svd(A)\n",
        "print(\"Matrix U:\")\n",
        "print(U)\n",
        "print(\"\\nMatrix Sigma (Diagonal matrix):\")\n",
        "print(np.diag(Sigma))\n",
        "print(\"\\nMatrix Vt (Transpose of V):\")\n",
        "print(Vt)\n",
        "A_reconstructed = np.dot(U, np.dot(np.diag(Sigma), Vt))\n",
        "print(\"\\nIs A equal to the product of U, Sigma, and Vt? \", np.allclose(A, A_reconstructed))\n",
        "\n",
        "# Rank 2 approximation of matrix A\n",
        "rank_2_approximation = np.dot(U[:, :2], np.dot(np.diag(Sigma[:2]), Vt[:2, :]))\n",
        "print(\"\\nRank 2 approximation of matrix A:\")\n",
        "print(rank_2_approximation)\n",
        "\n",
        "# Rank 3 approximation of matrix A\n",
        "rank_3_approximation = np.dot(U[:, :3], np.dot(np.diag(Sigma[:3]), Vt[:3, :]))\n",
        "print(\"\\nRank 3 approximation of matrix A:\")\n",
        "print(rank_3_approximation)\n"
      ],
      "metadata": {
        "id": "i5qyqpE2arMw",
        "outputId": "4e325533-8610-4839-84cd-25f5a01f6937",
        "colab": {
          "base_uri": "https://localhost:8080/"
        }
      },
      "execution_count": 1,
      "outputs": [
        {
          "output_type": "stream",
          "name": "stdout",
          "text": [
            "Matrix U:\n",
            "[[-6.21758204e-01  1.57221936e-01  1.68326958e-01  3.26582732e-01\n",
            "  -6.73578320e-01]\n",
            " [-4.67670084e-01 -6.05520322e-01  7.65320935e-02 -6.39353120e-01\n",
            "  -5.08686245e-04]\n",
            " [-3.41782064e-01  4.31365934e-01 -7.89806509e-01 -2.53152755e-01\n",
            "   9.60615001e-02]\n",
            " [-4.15309576e-01  4.54663424e-01  5.20393697e-01 -6.49912786e-02\n",
            "   5.88018418e-01]\n",
            " [-3.24660446e-01 -4.64576155e-01 -2.66842560e-01  6.45183015e-01\n",
            "   4.37376858e-01]]\n",
            "\n",
            "Matrix Sigma (Diagonal matrix):\n",
            "[[26.78331252  0.          0.          0.          0.        ]\n",
            " [ 0.          9.76450342  0.          0.          0.        ]\n",
            " [ 0.          0.          6.18232967  0.          0.        ]\n",
            " [ 0.          0.          0.          3.09779547  0.        ]\n",
            " [ 0.          0.          0.          0.          0.70078979]]\n",
            "\n",
            "Matrix Vt (Transpose of V):\n",
            "[[-0.3823076  -0.52173478 -0.25046447 -0.49651275 -0.52189688]\n",
            " [ 0.58047978  0.46901398  0.03115728 -0.38781364 -0.54009158]\n",
            " [ 0.08195193  0.04290689 -0.6930067   0.6184649  -0.35872798]\n",
            " [ 0.70447684 -0.61473959 -0.18938304 -0.09863428  0.28321893]\n",
            " [ 0.11781505 -0.3578728   0.64820718  0.45918201 -0.47647246]]\n",
            "\n",
            "Is A equal to the product of U, Sigma, and Vt?  True\n",
            "\n",
            "Rank 2 approximation of matrix A:\n",
            "[[7.25761982 9.40834344 4.21875324 7.67293059 7.86186994]\n",
            " [1.35654312 3.76202704 2.95303561 8.51218552 9.7305003 ]\n",
            " [5.94468897 6.75151098 2.42400253 2.91160559 2.50256744]\n",
            " [6.82962371 7.88566394 2.92433272 3.80117016 3.4074798 ]\n",
            " [0.69108629 2.40912141 2.03656882 6.07667829 6.98819245]]\n",
            "\n",
            "Rank 3 approximation of matrix A:\n",
            "[[ 7.34290333  9.45299461  3.49757392  8.31653778  7.48855869]\n",
            " [ 1.3953184   3.78232829  2.62514182  8.8048101   9.56076937]\n",
            " [ 5.54453045  6.54200332  5.80784628 -0.10826216  4.25418027]\n",
            " [ 7.09328319  8.02370593  0.6947601   5.79092351  2.25336387]\n",
            " [ 0.55588947  2.33833754  3.17982799  5.05639138  7.5799891 ]]\n"
          ]
        }
      ]
    }
  ]
}